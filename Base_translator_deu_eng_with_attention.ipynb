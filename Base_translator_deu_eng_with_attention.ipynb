{
  "nbformat": 4,
  "nbformat_minor": 0,
  "metadata": {
    "colab": {
      "name": "Base translator deu-eng with attention",
      "provenance": [],
      "collapsed_sections": []
    },
    "kernelspec": {
      "name": "python3",
      "display_name": "Python 3"
    },
    "accelerator": "GPU"
  },
  "cells": [
    {
      "cell_type": "code",
      "metadata": {
        "id": "ETYoDtYnjG6H"
      },
      "source": [
        "from google.colab import files \n",
        "\n",
        "%tensorflow_version 2.x \n",
        "import tensorflow as tf \n",
        "\n",
        "from tensorflow.keras.preprocessing.text import Tokenizer \n",
        "from tensorflow.keras.preprocessing.sequence import pad_sequences \n",
        "from tensorflow.keras.models import Model \n",
        "from tensorflow.keras.layers import Dense, Embedding, GRU \n",
        "from tensorflow.keras.optimizers import Adam \n",
        "from tensorflow.keras.losses import SparseCategoricalCrossentropy \n",
        "import numpy as np \n",
        "\n",
        "\n",
        "import matplotlib.pyplot as plt \n",
        "import matplotlib.ticker as ticker \n",
        "\n",
        "from sklearn.model_selection import train_test_split \n",
        "import re \n",
        "import time \n",
        "import os "
      ],
      "execution_count": null,
      "outputs": []
    },
    {
      "cell_type": "markdown",
      "metadata": {
        "id": "2zDsn1WU6BCq"
      },
      "source": [
        "# **Загрузка и парсинг данных**"
      ]
    },
    {
      "cell_type": "code",
      "metadata": {
        "id": "O01PTpPmjPpn",
        "colab": {
          "resources": {
            "http://localhost:8080/nbextensions/google.colab/files.js": {
              "data": "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",
              "ok": true,
              "headers": [
                [
                  "content-type",
                  "application/javascript"
                ]
              ],
              "status": 200,
              "status_text": ""
            }
          },
          "base_uri": "https://localhost:8080/",
          "height": 55
        },
        "outputId": "4718d735-c19d-4d22-c8da-8baea92302e1"
      },
      "source": [
        "files.upload() # http://www.manythings.org/anki/"
      ],
      "execution_count": null,
      "outputs": [
        {
          "output_type": "display_data",
          "data": {
            "text/html": [
              "\n",
              "     <input type=\"file\" id=\"files-8b186018-cc68-4df3-8d91-81589f69be45\" name=\"files[]\" multiple disabled\n",
              "        style=\"border:none\" />\n",
              "     <output id=\"result-8b186018-cc68-4df3-8d91-81589f69be45\">\n",
              "      Upload widget is only available when the cell has been executed in the\n",
              "      current browser session. Please rerun this cell to enable.\n",
              "      </output>\n",
              "      <script src=\"/nbextensions/google.colab/files.js\"></script> "
            ],
            "text/plain": [
              "<IPython.core.display.HTML object>"
            ]
          },
          "metadata": {}
        },
        {
          "output_type": "execute_result",
          "data": {
            "text/plain": [
              "{}"
            ]
          },
          "metadata": {},
          "execution_count": 3
        }
      ]
    },
    {
      "cell_type": "code",
      "metadata": {
        "colab": {
          "base_uri": "https://localhost:8080/"
        },
        "id": "Bk62eX2Iepgz",
        "outputId": "b4709548-d933-41a5-d49f-6c511908efcc"
      },
      "source": [
        "from google.colab import drive\n",
        "drive.mount('/content/drive')"
      ],
      "execution_count": null,
      "outputs": [
        {
          "output_type": "stream",
          "name": "stdout",
          "text": [
            "Mounted at /content/drive\n"
          ]
        }
      ]
    },
    {
      "cell_type": "code",
      "metadata": {
        "id": "IFpoO5Gg4Pt_"
      },
      "source": [
        "path_to_file = '/content/drive/MyDrive/Базы/output (2).txt' "
      ],
      "execution_count": null,
      "outputs": []
    },
    {
      "cell_type": "code",
      "metadata": {
        "id": "9Gvw1cdz-QSN",
        "colab": {
          "base_uri": "https://localhost:8080/"
        },
        "outputId": "2ecde51a-74cb-4c96-95da-5a469a433065"
      },
      "source": [
        "def preprocess_sentence(phrases): \n",
        "    phrases = re.sub(r\"([?.!,;:])\", r\" \\1 \", phrases) \n",
        "    phrases = re.sub(r\"[^a-zA-Zа-яёА-ЯЁ?.!,;:]+\", \" \", phrases) \n",
        "\n",
        "    phrases = phrases.rstrip().strip() \n",
        "    phrases = '<start> ' + phrases + ' <end>' \n",
        "    return phrases \n",
        "print(\"Фразы после обработки функцией с т.з. пунктуации примут вид:\")\n",
        "print(preprocess_sentence(\"What about you?\"))\n",
        "print(preprocess_sentence(\"А как насчет тебя?\"))"
      ],
      "execution_count": null,
      "outputs": [
        {
          "output_type": "stream",
          "name": "stdout",
          "text": [
            "Фразы после обработки функцией с т.з. пунктуации примут вид:\n",
            "<start> What about you ? <end>\n",
            "<start> А как насчет тебя ? <end>\n"
          ]
        }
      ]
    },
    {
      "cell_type": "code",
      "metadata": {
        "id": "Q2luO-qN-ikY",
        "colab": {
          "base_uri": "https://localhost:8080/"
        },
        "outputId": "2f29dc24-6b40-4676-853a-23f2cb128891"
      },
      "source": [
        "def create_dataset(path, num_examples): \n",
        "    lines = open(path, encoding='UTF-8').read().strip().split('\\n')\n",
        "    word_pairs = [[preprocess_sentence(phrases) for phrases in l.split('\\t')]  for l in lines[:num_examples]]\n",
        "    return zip(*word_pairs) \n",
        "\n",
        "print(\"Взглянем на пример пары фраз на выходе функции:\")\n",
        "english, deutsch = create_dataset(path_to_file, None) \n",
        "print(english[-1]) \n",
        "print(deutsch[-1]) "
      ],
      "execution_count": null,
      "outputs": [
        {
          "output_type": "stream",
          "name": "stdout",
          "text": [
            "Взглянем на пример пары фраз на выходе функции:\n",
            "<start> Doubtless there exists in this world precisely the right woman for any given man to marry and vice versa ; but when you consider that a human being has the opportunity of being acquainted with only a few hundred people , and out of the few hundred that there are but a dozen or less whom he knows intimately , and out of the dozen , one or two friends at most , it will easily be seen , when we remember the number of millions who inhabit this world , that probably , since the earth was created , the right man has never yet met the right woman . <end>\n",
            "<start> Ohne Zweifel findet sich auf dieser Welt zu jedem Mann genau die richtige Ehefrau und umgekehrt ; wenn man jedoch in Betracht zieht , dass ein Mensch nur Gelegenheit hat , mit ein paar hundert anderen bekannt zu sein , von denen ihm nur ein Dutzend oder weniger nahesteht , darunter h chstens ein oder zwei Freunde , dann erahnt man eingedenk der Millionen Einwohner dieser Welt leicht , dass seit Erschaffung ebenderselben wohl noch nie der richtige Mann der richtigen Frau begegnet ist . <end>\n"
          ]
        }
      ]
    },
    {
      "cell_type": "code",
      "metadata": {
        "id": "pGUKZI3AaQrl"
      },
      "source": [
        "def max_length(tensor): \n",
        "  return max(len(t) for t in tensor) \n",
        "\n",
        "\n",
        "def tokenize(language): \n",
        "    language_tokenizer = Tokenizer(filters='') \n",
        "    language_tokenizer.fit_on_texts(language) \n",
        "    tensor = language_tokenizer.texts_to_sequences(language) \n",
        "    tensor = pad_sequences(tensor, padding='post') \n",
        "\n",
        "    return tensor, language_tokenizer \n",
        "\n",
        "\n",
        "def load_dataset(path, num_examples=None): \n",
        "    targ_language, inp_language = create_dataset(path, num_examples)\n",
        "\n",
        "    input_tensor, inp_language_tokenizer = tokenize(inp_language) \n",
        "    target_tensor, targ_language_tokenizer = tokenize(targ_language) \n",
        "\n",
        "    return input_tensor, target_tensor, inp_language_tokenizer, targ_language_tokenizer"
      ],
      "execution_count": null,
      "outputs": []
    },
    {
      "cell_type": "code",
      "metadata": {
        "id": "8Zys23c9aDpT",
        "colab": {
          "base_uri": "https://localhost:8080/"
        },
        "outputId": "0c9aef65-b022-4287-e42d-30abcd34e2f5"
      },
      "source": [
        "num_examples = 40000 \n",
        "input_tensor, target_tensor, inp_language_tokenizer, targ_language_tokenizer = load_dataset(path_to_file, num_examples)\n",
        "\n",
        "max_length_targ, max_length_inp = max_length(target_tensor), max_length(input_tensor)\n",
        "\n",
        "input_tensor_train, input_tensor_val, target_tensor_train, target_tensor_val = train_test_split(input_tensor, target_tensor, test_size=0.2)\n",
        "\n",
        "\n",
        "def convert(language, tensor):\n",
        "    for t in tensor:\n",
        "        if t!=0:\n",
        "            print (\"%d ----> %s\" % (t, language.index_word[t]))\n",
        "print (\"Фраза на немецком языке; соответствие индекса и слова\")\n",
        "convert(inp_language_tokenizer, input_tensor_train[0])\n",
        "print ()\n",
        "print (\"Фраза на английском языке; соответствие индекса и слова\")\n",
        "convert(targ_language_tokenizer, target_tensor_train[0])\n",
        "print ()\n",
        "print(\"Нем. яз. тренировочная: \" , len(input_tensor_train), \"фраз; \", \"Анг.яз. тренировочная: \", len(target_tensor_train), \"фраз\")\n",
        "print(\"Нем. яз. тестовая: \", len(input_tensor_val), \"фраз; \", \"Анг.яз. тестовая: \", len(target_tensor_val), \"фраз\")"
      ],
      "execution_count": null,
      "outputs": [
        {
          "output_type": "stream",
          "name": "stdout",
          "text": [
            "Фраза на немецком языке; соответствие индекса и слова\n",
            "1 ----> <start>\n",
            "5 ----> tom\n",
            "6 ----> ist\n",
            "1735 ----> geschwommen\n",
            "3 ----> .\n",
            "2 ----> <end>\n",
            "\n",
            "Фраза на английском языке; соответствие индекса и слова\n",
            "1 ----> <start>\n",
            "5 ----> tom\n",
            "1269 ----> swam\n",
            "3 ----> .\n",
            "2 ----> <end>\n",
            "\n",
            "Нем. яз. тренировочная:  32000 фраз;  Анг.яз. тренировочная:  32000 фраз\n",
            "Нем. яз. тестовая:  8000 фраз;  Анг.яз. тестовая:  8000 фраз\n"
          ]
        }
      ]
    },
    {
      "cell_type": "markdown",
      "metadata": {
        "id": "7olSlL4B_pSX"
      },
      "source": [
        "# **Параметры нейросети**"
      ]
    },
    {
      "cell_type": "code",
      "metadata": {
        "id": "eOC2Qi7B5mi9",
        "colab": {
          "base_uri": "https://localhost:8080/"
        },
        "outputId": "27c511a7-098b-4682-89ac-418073665aad"
      },
      "source": [
        "BUFFER_SIZE = len(input_tensor_train) \n",
        "\n",
        "BATCH_SIZE = 64 \n",
        "steps_per_epoch = len(input_tensor_train)//BATCH_SIZE \n",
        "embedding_dim = 256 \n",
        "units = 1024 \n",
        "vocab_inp_size = len(inp_language_tokenizer.word_index)+1\n",
        "vocab_tar_size = len(inp_language_tokenizer.word_index)+1\n",
        "\n",
        "dataset = tf.data.Dataset.from_tensor_slices((input_tensor_train, target_tensor_train)).shuffle(BUFFER_SIZE)\n",
        "dataset = dataset.batch(BATCH_SIZE, drop_remainder=True)\n",
        "\n",
        "example_input_batch, example_target_batch = next(iter(dataset))\n",
        "example_input_batch.shape, example_target_batch.shape"
      ],
      "execution_count": null,
      "outputs": [
        {
          "output_type": "execute_result",
          "data": {
            "text/plain": [
              "(TensorShape([64, 17]), TensorShape([64, 10]))"
            ]
          },
          "metadata": {},
          "execution_count": 30
        }
      ]
    },
    {
      "cell_type": "markdown",
      "metadata": {
        "id": "adbHk_p2cP4S"
      },
      "source": [
        "# **Создаём классы Encoder, Attention, Decoder**\n"
      ]
    },
    {
      "cell_type": "code",
      "metadata": {
        "id": "dR1pxuq8b5Xq"
      },
      "source": [
        "class Encoder(Model):\n",
        "    def __init__(self, vocab_size, embedding_dim, enc_units, batch_sz): \n",
        "        super(Encoder, self).__init__() \n",
        "        self.batch_sz = batch_sz \n",
        "        self.enc_units = enc_units \n",
        "        self.embedding = Embedding(vocab_size, embedding_dim)  \n",
        "        self.gru = GRU(self.enc_units, return_sequences=True, return_state=True, recurrent_initializer='glorot_uniform')\n",
        " \n",
        "    def call(self, x, hidden): \n",
        "        x = self.embedding(x) \n",
        "        output, state = self.gru(x, initial_state = hidden) \n",
        "        return output, state \n",
        "\n",
        "    def initialize_hidden_state(self): \n",
        "        return tf.zeros((self.batch_sz, self.enc_units))      "
      ],
      "execution_count": null,
      "outputs": []
    },
    {
      "cell_type": "code",
      "metadata": {
        "id": "WPTH-Q4ObnI5",
        "colab": {
          "base_uri": "https://localhost:8080/"
        },
        "outputId": "9dee6cc5-2b81-4d1c-921c-fc3ee9876817"
      },
      "source": [
        "encoder = Encoder(vocab_inp_size, embedding_dim, units, BATCH_SIZE)\n",
        "sample_hidden = encoder.initialize_hidden_state() \n",
        "\n",
        "sample_output, sample_hidden = encoder(example_input_batch, sample_hidden)\n",
        "print ('Размеры выхода из кодировщика: (batch size, sequence length, units) {}'.format(sample_output.shape))\n",
        "print ('Размеры скрытого состояния: (batch size, units) {}'.format(sample_hidden.shape))"
      ],
      "execution_count": null,
      "outputs": [
        {
          "output_type": "stream",
          "name": "stdout",
          "text": [
            "Размеры выхода из кодировщика: (batch size, sequence length, units) (64, 17, 1024)\n",
            "Размеры скрытого состояния: (batch size, units) (64, 1024)\n"
          ]
        }
      ]
    },
    {
      "cell_type": "code",
      "metadata": {
        "id": "aORPLydpup4B"
      },
      "source": [
        "class BahdanauAttention(Model): \n",
        "    def __init__(self, units): \n",
        "        super(BahdanauAttention, self).__init__() \n",
        "        self.W1 = Dense(units) \n",
        "        self.W2 = Dense(units) \n",
        "        self.V =  Dense(1) \n",
        "\n",
        "    def call(self, hidden_state, values): \n",
        "        hidden_with_time_axis = tf.expand_dims(hidden_state, 1)\n",
        "\n",
        "        score = self.V(tf.nn.tanh(self.W1(values) + self.W2(hidden_with_time_axis)))\n",
        "        attention_weights = tf.nn.softmax(score, axis=1)\n",
        "\n",
        "        context_vector = attention_weights * values \n",
        "        context_vector = tf.reduce_sum(context_vector, axis=1) \n",
        "        return context_vector, attention_weights "
      ],
      "execution_count": null,
      "outputs": []
    },
    {
      "cell_type": "code",
      "metadata": {
        "id": "IsopqJZxC_0g",
        "colab": {
          "base_uri": "https://localhost:8080/"
        },
        "outputId": "01bf7356-583b-469c-ac88-8356034d465e"
      },
      "source": [
        "attention_layer = BahdanauAttention(10)\n",
        "attention_result, attention_weights = attention_layer(sample_hidden, sample_output)\n",
        "\n",
        "print(\"Размеры значения внимания: (размер батча, размер слоя) {}\".format(attention_result.shape))\n",
        "print(\"Размеры весов внимания: (размер батча, длина последовательности, 1) {}\".format(attention_weights.shape))"
      ],
      "execution_count": null,
      "outputs": [
        {
          "output_type": "stream",
          "name": "stdout",
          "text": [
            "Размеры значения внимания: (размер батча, размер слоя) (64, 1024)\n",
            "Размеры весов внимания: (размер батча, длина последовательности, 1) (64, 17, 1)\n"
          ]
        }
      ]
    },
    {
      "cell_type": "code",
      "metadata": {
        "id": "FIs1ni4-d1ZW"
      },
      "source": [
        "\n",
        "class Decoder(Model):\n",
        "    def __init__(self, vocab_size, embedding_dim, dec_units, batch_sz):\n",
        "        super(Decoder, self).__init__() \n",
        "        self.batch_sz = batch_sz \n",
        "        self.dec_units = dec_units \n",
        "        self.embedding = Embedding(vocab_size, embedding_dim)    \n",
        "        self.gru = GRU(self.dec_units, return_sequences=True, return_state=True, recurrent_initializer='glorot_uniform')\n",
        "        self.fc = Dense(vocab_size)\n",
        "\n",
        "        self.attention = BahdanauAttention(self.dec_units) \n",
        "\n",
        "    def call(self, x, hidden, enc_output):\n",
        "        context_vector, attention_weights = self.attention(hidden, enc_output)\n",
        "        x = self.embedding(x)\n",
        "        x = tf.concat([tf.expand_dims(context_vector, 1), x], axis=-1)\n",
        "        output, state = self.gru(x)\n",
        "        output = tf.reshape(output, (-1, output.shape[2]))\n",
        "        x = self.fc(output) \n",
        "\n",
        "        return x, state, attention_weights"
      ],
      "execution_count": null,
      "outputs": []
    },
    {
      "cell_type": "code",
      "metadata": {
        "id": "owtx5d6emgmf",
        "colab": {
          "base_uri": "https://localhost:8080/"
        },
        "outputId": "95674448-bd65-426c-e95c-dda7ca0a1137"
      },
      "source": [
        "decoder = Decoder(vocab_tar_size, embedding_dim, units, BATCH_SIZE)\n",
        "sample_decoder_output, _, _ = decoder(tf.random.uniform((64, 1)), sample_hidden, sample_output)\n",
        "\n",
        "print ('Размер выхода с декодера: (размер батча, размер словаря) {}'.format(sample_decoder_output.shape))"
      ],
      "execution_count": null,
      "outputs": [
        {
          "output_type": "stream",
          "name": "stdout",
          "text": [
            "Размер выхода с декодера: (размер батча, размер словаря) (64, 8291)\n"
          ]
        }
      ]
    },
    {
      "cell_type": "code",
      "metadata": {
        "id": "hER8MqbaouHz"
      },
      "source": [
        "optimizer = Adam() \n",
        "loss_object = SparseCategoricalCrossentropy(from_logits=True, reduction='none') \n",
        "\n",
        "def loss_function(real, pred): \n",
        "    mask = tf.math.logical_not(tf.math.equal(real, 0)) \n",
        "    loss_ = loss_object(real, pred) \n",
        "\n",
        "    mask = tf.cast(mask, dtype=loss_.dtype)\n",
        "    loss_ *= mask\n",
        "    \n",
        "    return tf.reduce_mean(loss_)"
      ],
      "execution_count": null,
      "outputs": []
    },
    {
      "cell_type": "markdown",
      "metadata": {
        "id": "GkqawSfT_5zk"
      },
      "source": [
        "# **Обучение Нейросети**\n"
      ]
    },
    {
      "cell_type": "code",
      "metadata": {
        "id": "F_DuuKi0pV2N"
      },
      "source": [
        "checkpoint_dir = './training_checkpoints' \n",
        "checkpoint_prefix = os.path.join(checkpoint_dir, \"ckpt\") \n",
        "checkpoint = tf.train.Checkpoint(optimizer=optimizer, encoder=encoder, decoder=decoder) "
      ],
      "execution_count": null,
      "outputs": []
    },
    {
      "cell_type": "code",
      "metadata": {
        "id": "GW_wZQ13pd49"
      },
      "source": [
        "@tf.function\n",
        "def train_step(inp, targ, enc_hidden): \n",
        "    loss = 0 \n",
        "    with tf.GradientTape() as tape:\n",
        "        enc_output, enc_hidden = encoder(inp, enc_hidden)\n",
        "        dec_hidden = enc_hidden \n",
        "        dec_input = tf.expand_dims([targ_language_tokenizer.word_index['<start>']] * BATCH_SIZE, 1)\n",
        "        for t in range(1, targ.shape[1]): \n",
        "            predictions, dec_hidden, _ = decoder(dec_input, dec_hidden, enc_output) \n",
        "            loss += loss_function(targ[:, t], predictions)\n",
        "            dec_input = tf.expand_dims(targ[:, t], 1)\n",
        "    batch_loss = (loss / int(targ.shape[1])) \n",
        "    variables = encoder.trainable_variables + decoder.trainable_variables \n",
        "    gradients = tape.gradient(loss, variables) \n",
        "    optimizer.apply_gradients(zip(gradients, variables)) \n",
        "\n",
        "    return batch_loss "
      ],
      "execution_count": null,
      "outputs": []
    },
    {
      "cell_type": "code",
      "metadata": {
        "id": "pYE7UHJT_TU8",
        "colab": {
          "base_uri": "https://localhost:8080/"
        },
        "outputId": "a8e52f00-5c02-417c-d75f-d9e8581558e6"
      },
      "source": [
        "EPOCHS = 30\n",
        "\n",
        "for epoch in range(EPOCHS):\n",
        "    start = time.time() \n",
        "    enc_hidden = encoder.initialize_hidden_state()\n",
        "    total_loss = 0\n",
        "    for (batch, (inp, targ)) in enumerate(dataset.take(steps_per_epoch)):\n",
        "        batch_loss = train_step(inp, targ, enc_hidden) \n",
        "        total_loss += batch_loss \n",
        "\n",
        "    if (epoch + 1) % 10 == 0:\n",
        "        checkpoint.save(file_prefix = checkpoint_prefix)\n",
        "    print('Эпоха {} Ошибка {:.4f}'.format(epoch + 1, total_loss / steps_per_epoch))\n",
        "    print('Время на 1 эпоху {} сек\\n'.format(round(time.time() - start), 1))"
      ],
      "execution_count": null,
      "outputs": [
        {
          "output_type": "stream",
          "name": "stdout",
          "text": [
            "Эпоха 1 Ошибка 2.0392\n",
            "Время на 1 эпоху 104 сек\n",
            "\n",
            "Эпоха 2 Ошибка 1.3641\n",
            "Время на 1 эпоху 88 сек\n",
            "\n",
            "Эпоха 3 Ошибка 0.9145\n",
            "Время на 1 эпоху 88 сек\n",
            "\n",
            "Эпоха 4 Ошибка 0.5923\n",
            "Время на 1 эпоху 88 сек\n",
            "\n",
            "Эпоха 5 Ошибка 0.3889\n",
            "Время на 1 эпоху 87 сек\n",
            "\n",
            "Эпоха 6 Ошибка 0.2683\n",
            "Время на 1 эпоху 88 сек\n",
            "\n",
            "Эпоха 7 Ошибка 0.1951\n",
            "Время на 1 эпоху 88 сек\n",
            "\n",
            "Эпоха 8 Ошибка 0.1477\n",
            "Время на 1 эпоху 88 сек\n",
            "\n",
            "Эпоха 9 Ошибка 0.1190\n",
            "Время на 1 эпоху 88 сек\n",
            "\n",
            "Эпоха 10 Ошибка 0.1015\n",
            "Время на 1 эпоху 88 сек\n",
            "\n",
            "Эпоха 11 Ошибка 0.0896\n",
            "Время на 1 эпоху 88 сек\n",
            "\n",
            "Эпоха 12 Ошибка 0.0822\n",
            "Время на 1 эпоху 88 сек\n",
            "\n",
            "Эпоха 13 Ошибка 0.0780\n",
            "Время на 1 эпоху 88 сек\n",
            "\n",
            "Эпоха 14 Ошибка 0.0762\n",
            "Время на 1 эпоху 88 сек\n",
            "\n",
            "Эпоха 15 Ошибка 0.0705\n",
            "Время на 1 эпоху 88 сек\n",
            "\n",
            "Эпоха 16 Ошибка 0.0669\n",
            "Время на 1 эпоху 88 сек\n",
            "\n",
            "Эпоха 17 Ошибка 0.0659\n",
            "Время на 1 эпоху 88 сек\n",
            "\n",
            "Эпоха 18 Ошибка 0.0639\n",
            "Время на 1 эпоху 88 сек\n",
            "\n",
            "Эпоха 19 Ошибка 0.0627\n",
            "Время на 1 эпоху 88 сек\n",
            "\n",
            "Эпоха 20 Ошибка 0.0601\n",
            "Время на 1 эпоху 88 сек\n",
            "\n",
            "Эпоха 21 Ошибка 0.0570\n",
            "Время на 1 эпоху 88 сек\n",
            "\n",
            "Эпоха 22 Ошибка 0.0559\n",
            "Время на 1 эпоху 88 сек\n",
            "\n",
            "Эпоха 23 Ошибка 0.0570\n",
            "Время на 1 эпоху 88 сек\n",
            "\n",
            "Эпоха 24 Ошибка 0.0549\n",
            "Время на 1 эпоху 88 сек\n",
            "\n",
            "Эпоха 25 Ошибка 0.0535\n",
            "Время на 1 эпоху 88 сек\n",
            "\n",
            "Эпоха 26 Ошибка 0.0509\n",
            "Время на 1 эпоху 88 сек\n",
            "\n",
            "Эпоха 27 Ошибка 0.0494\n",
            "Время на 1 эпоху 88 сек\n",
            "\n",
            "Эпоха 28 Ошибка 0.0498\n",
            "Время на 1 эпоху 88 сек\n",
            "\n",
            "Эпоха 29 Ошибка 0.0507\n",
            "Время на 1 эпоху 88 сек\n",
            "\n",
            "Эпоха 30 Ошибка 0.0508\n",
            "Время на 1 эпоху 88 сек\n",
            "\n"
          ]
        }
      ]
    },
    {
      "cell_type": "code",
      "metadata": {
        "id": "XFIvJfrf3Wtg"
      },
      "source": [
        "def evaluate(sentence):\n",
        "    attention_plot = np.zeros((max_length_targ, max_length_inp))\n",
        "\n",
        "    sentence = preprocess_sentence(sentence)\n",
        "\n",
        "    inputs = [inp_language_tokenizer.word_index[i] for i in sentence.split(' ')]\n",
        "    inputs = pad_sequences([inputs], maxlen=max_length_inp, padding='post') \n",
        "    inputs = tf.convert_to_tensor(inputs)\n",
        "\n",
        "    result = ''\n",
        "\n",
        "    hidden = [tf.zeros((1, units))] \n",
        "    enc_out, enc_hidden = encoder(inputs, hidden) \n",
        "    dec_hidden = enc_hidden \n",
        "    dec_input = tf.expand_dims([targ_language_tokenizer.word_index['<start>']], 0) \n",
        "\n",
        "    for t in range(max_length_targ): \n",
        "        predictions, dec_hidden, attention_weights = decoder(dec_input, dec_hidden, enc_out)\n",
        "        attention_weights = tf.reshape(attention_weights, (-1, ))\n",
        "        attention_plot[t] = attention_weights.numpy()\n",
        "        predicted_id = tf.argmax(predictions[0]).numpy()\n",
        "        result += targ_language_tokenizer.index_word[predicted_id] + ' '\n",
        "        if targ_language_tokenizer.index_word[predicted_id] == '<end>':\n",
        "            return result, sentence, attention_plot\n",
        "        dec_input = tf.expand_dims([predicted_id], 0)\n",
        "\n",
        "    return result, sentence, attention_plot"
      ],
      "execution_count": null,
      "outputs": []
    },
    {
      "cell_type": "code",
      "metadata": {
        "id": "oGAqYUS43vRs"
      },
      "source": [
        "def plot_attention(attention, sentence, predicted_sentence):\n",
        "    fig = plt.figure(figsize=(10,10))\n",
        "    ax = fig.add_subplot(1, 1, 1)\n",
        "    ax.matshow(attention, cmap='viridis')\n",
        "\n",
        "    fontdict = {'fontsize': 14}\n",
        "\n",
        "    ax.set_xticklabels([''] + sentence, fontdict=fontdict, rotation=90)\n",
        "    ax.set_yticklabels([''] + predicted_sentence, fontdict=fontdict)\n",
        "\n",
        "    ax.xaxis.set_major_locator(ticker.MultipleLocator(1))\n",
        "    ax.yaxis.set_major_locator(ticker.MultipleLocator(1))\n",
        "\n",
        "    plt.show()"
      ],
      "execution_count": null,
      "outputs": []
    },
    {
      "cell_type": "code",
      "metadata": {
        "id": "dAmiJ_Ge3yzg"
      },
      "source": [
        "def translate(sentence): \n",
        "    result, sentence, attention_plot = evaluate(sentence)\n",
        "\n",
        "    print('Входящая фраза: %s' % (sentence))\n",
        "    print('Предсказанный перевод: {}'.format(result))\n",
        "\n",
        "    attention_plot = attention_plot[:len(result.split(' ')), :len(sentence.split(' '))]\n",
        "    plot_attention(attention_plot, sentence.split(' '), result.split(' '))"
      ],
      "execution_count": null,
      "outputs": []
    },
    {
      "cell_type": "code",
      "metadata": {
        "id": "buD6d-ZF332j",
        "colab": {
          "base_uri": "https://localhost:8080/"
        },
        "outputId": "99f10cbe-1288-4adf-f1d4-406fa0703228"
      },
      "source": [
        "checkpoint.restore(tf.train.latest_checkpoint(checkpoint_dir))"
      ],
      "execution_count": null,
      "outputs": [
        {
          "output_type": "execute_result",
          "data": {
            "text/plain": [
              "<tensorflow.python.training.tracking.util.CheckpointLoadStatus at 0x7fc065f3e550>"
            ]
          },
          "metadata": {},
          "execution_count": 45
        }
      ]
    },
    {
      "cell_type": "code",
      "metadata": {
        "id": "YGvp25g64Bla",
        "colab": {
          "base_uri": "https://localhost:8080/",
          "height": 676
        },
        "outputId": "a5a57cdc-fe3a-4aa2-8621-7d30ad8a5902"
      },
      "source": [
        "translate('lass uns Freunde sein'.lower()) # let's be friends"
      ],
      "execution_count": null,
      "outputs": [
        {
          "output_type": "stream",
          "name": "stdout",
          "text": [
            "Входящая фраза: <start> lass uns freunde sein <end>\n",
            "Предсказанный перевод: let s be friends . <end> \n"
          ]
        },
        {
          "output_type": "display_data",
          "data": {
            "image/png": "[encoded data removed]",
            "text/plain": [
              "<Figure size 720x720 with 1 Axes>"
            ]
          },
          "metadata": {
            "needs_background": "light"
          }
        }
      ]
    },
    {
      "cell_type": "code",
      "metadata": {
        "colab": {
          "base_uri": "https://localhost:8080/",
          "height": 676
        },
        "id": "iAXRWL5V35uy",
        "outputId": "33d266b4-ae7a-4567-d02c-19a18edc67fa"
      },
      "source": [
        "translate('Geht es dir gut'.lower()) # you are all right"
      ],
      "execution_count": null,
      "outputs": [
        {
          "output_type": "stream",
          "name": "stdout",
          "text": [
            "Входящая фраза: <start> geht es dir gut <end>\n",
            "Предсказанный перевод: go to be ok . <end> \n"
          ]
        },
        {
          "output_type": "display_data",
          "data": {
            "image/png": "[encoded data removed]",
            "text/plain": [
              "<Figure size 720x720 with 1 Axes>"
            ]
          },
          "metadata": {
            "needs_background": "light"
          }
        }
      ]
    },
    {
      "cell_type": "code",
      "metadata": {
        "colab": {
          "base_uri": "https://localhost:8080/",
          "height": 676
        },
        "id": "WCCOW_yx2LKZ",
        "outputId": "60ef0811-2c50-4253-9285-6aeae217965d"
      },
      "source": [
        "translate('Geht es dir gut?'.lower()) # are you all right?"
      ],
      "execution_count": null,
      "outputs": [
        {
          "output_type": "stream",
          "name": "stdout",
          "text": [
            "Входящая фраза: <start> geht es dir gut ? <end>\n",
            "Предсказанный перевод: are you all right ? <end> \n"
          ]
        },
        {
          "output_type": "display_data",
          "data": {
            "image/png": "[encoded data removed]",
            "text/plain": [
              "<Figure size 720x720 with 1 Axes>"
            ]
          },
          "metadata": {
            "needs_background": "light"
          }
        }
      ]
    },
    {
      "cell_type": "code",
      "metadata": {
        "colab": {
          "base_uri": "https://localhost:8080/",
          "height": 621
        },
        "id": "lUM032tkzHwk",
        "outputId": "bc92ebf2-0358-4f8d-a5ab-29f4316efcc2"
      },
      "source": [
        "translate('wann wirst du fertig sein?'.lower())  # when will you be ready ?"
      ],
      "execution_count": null,
      "outputs": [
        {
          "output_type": "stream",
          "name": "stdout",
          "text": [
            "Входящая фраза: <start> wann wirst du fertig sein ? <end>\n",
            "Предсказанный перевод: when will you done ? <end> \n"
          ]
        },
        {
          "output_type": "display_data",
          "data": {
            "image/png": "[encoded data removed]",
            "text/plain": [
              "<Figure size 720x720 with 1 Axes>"
            ]
          },
          "metadata": {
            "needs_background": "light"
          }
        }
      ]
    },
    {
      "cell_type": "code",
      "metadata": {
        "colab": {
          "base_uri": "https://localhost:8080/",
          "height": 676
        },
        "id": "A3Y_l3tyzply",
        "outputId": "40b667fb-03e9-4be7-9b6b-0f9df8d7eda9"
      },
      "source": [
        "translate('wie spät ist es'.lower())  # what time is it ?"
      ],
      "execution_count": null,
      "outputs": [
        {
          "output_type": "stream",
          "name": "stdout",
          "text": [
            "Входящая фраза: <start> wie sp t ist es <end>\n",
            "Предсказанный перевод: what time is it ? <end> \n"
          ]
        },
        {
          "output_type": "display_data",
          "data": {
            "image/png": "[encoded data removed]",
            "text/plain": [
              "<Figure size 720x720 with 1 Axes>"
            ]
          },
          "metadata": {
            "needs_background": "light"
          }
        }
      ]
    },
    {
      "cell_type": "code",
      "metadata": {
        "colab": {
          "base_uri": "https://localhost:8080/",
          "height": 676
        },
        "id": "waDs1rRi3Rud",
        "outputId": "9fc3e768-82cf-459a-8ad9-da72f4c9ec33"
      },
      "source": [
        "translate('Was ist das?'.lower())  # what is that?"
      ],
      "execution_count": null,
      "outputs": [
        {
          "output_type": "stream",
          "name": "stdout",
          "text": [
            "Входящая фраза: <start> was ist das ? <end>\n",
            "Предсказанный перевод: what is that ? <end> \n"
          ]
        },
        {
          "output_type": "display_data",
          "data": {
            "image/png": "[encoded data removed]",
            "text/plain": [
              "<Figure size 720x720 with 1 Axes>"
            ]
          },
          "metadata": {
            "needs_background": "light"
          }
        }
      ]
    }
  ]
}